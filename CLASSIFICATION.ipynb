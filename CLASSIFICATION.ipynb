{
 "cells": [
  {
   "cell_type": "code",
   "execution_count": 1,
   "metadata": {},
   "outputs": [],
   "source": [
    "import matplotlib.pyplot as plt\n",
    "import seaborn as sns\n",
    "\n",
    "import keras\n",
    "from keras.models import Sequential\n",
    "from keras.layers import Dense, Conv2D , MaxPool2D , Flatten , Dropout \n",
    "from keras.preprocessing.image import ImageDataGenerator\n",
    "from tensorflow.keras.optimizers import Adam\n",
    "\n",
    "from sklearn.metrics import classification_report,confusion_matrix\n",
    "\n",
    "import tensorflow as tf\n",
    "\n",
    "import cv2\n",
    "import os\n",
    "\n",
    "import numpy as np"
   ]
  },
  {
   "cell_type": "code",
   "execution_count": 7,
   "metadata": {},
   "outputs": [],
   "source": [
    "original_dataset_dir = 'D:\\archive (2)\\DataSets'\n",
    "base_dir =r'D:\\archive (2)\\x-ray'\n",
    "os.mkdir(base_dir)"
   ]
  },
  {
   "cell_type": "code",
   "execution_count": 8,
   "metadata": {},
   "outputs": [],
   "source": [
    "train_dir = os.path.join(base_dir, 'train')\n",
    "os.mkdir(train_dir)\n",
    "\n",
    "validation_dir = os.path.join(base_dir, 'validation')\n",
    "os.mkdir(validation_dir)\n"
   ]
  },
  {
   "cell_type": "code",
   "execution_count": 9,
   "metadata": {},
   "outputs": [],
   "source": [
    "train_covid_dir = os.path.join(train_dir, 'COVID')\n",
    "os.mkdir(train_covid_dir)\n",
    "\n",
    "train_pneumonia_dir = os.path.join(train_dir, 'Pneumonia')\n",
    "os.mkdir(train_pneumonia_dir)\n",
    "\n",
    "train_lung_opacity_dir = os.path.join(train_dir, 'Lung_Opacity')\n",
    "os.mkdir(train_lung_opacity_dir)\n",
    "\n",
    "train_normal_dir = os.path.join(train_dir, 'Normal')\n",
    "os.mkdir(train_normal_dir)"
   ]
  },
  {
   "cell_type": "code",
   "execution_count": 10,
   "metadata": {},
   "outputs": [],
   "source": [
    "validation_covid_dir = os.path.join(validation_dir, 'COVID')\n",
    "os.mkdir(validation_covid_dir)\n",
    "\n",
    "validation_pneumonia_dir = os.path.join(validation_dir, 'Pneoumonia')\n",
    "os.mkdir(validation_pneumonia_dir)\n",
    "\n",
    "validation_lung_opacity_dir = os.path.join(validation_dir, 'Lung_Opacity')\n",
    "os.mkdir(validation_lung_opacity_dir)\n",
    "\n",
    "validation_normal_dir = os.path.join(validation_dir, 'Normal')\n",
    "os.mkdir(validation_normal_dir)"
   ]
  },
  {
   "cell_type": "code",
   "execution_count": 2,
   "metadata": {},
   "outputs": [],
   "source": [
    "def split_data(SOURCE, TRAINING, VALIDATION, SPLIT_SIZE):\n",
    "    files = []\n",
    "    for filename in os.listdir(SOURCE):\n",
    "        file = SOURCE + filename\n",
    "        if os.path.getsize(file) > 0:\n",
    "            files.append(filename)\n",
    "        else:\n",
    "            print(filename + \" is zero length, so ignoring.\")\n",
    "\n",
    "    training_length = int(len(files) * SPLIT_SIZE)\n",
    "    valid_length = int(len(files) - training_length)\n",
    "    shuffled_set = random.sample(files, len(files))\n",
    "    training_set = shuffled_set[0:training_length]\n",
    "    valid_set = shuffled_set[training_length:]\n",
    "\n",
    "    for filename in training_set:\n",
    "        this_file = SOURCE + filename\n",
    "        destination = TRAINING + filename\n",
    "        copyfile(this_file, destination)\n",
    "\n",
    "    for filename in valid_set:\n",
    "        this_file = SOURCE + filename\n",
    "        destination = VALIDATION + filename\n",
    "        copyfile(this_file, destination)"
   ]
  },
  {
   "cell_type": "code",
   "execution_count": 32,
   "metadata": {},
   "outputs": [],
   "source": [
    "COVID_SOURCE_DIR ='D:\\\\archive (2)\\\\DataSets\\\\refined_covid\\\\'\n",
    "TRAINING_COVID_DIR = 'D:\\\\archive (2)\\\\x-ray\\\\train\\\\COVID\\\\'\n",
    "VALID_COVID_DIR = 'D:\\\\archive (2)\\\\x-ray\\\\validation\\\\COVID\\\\'\n",
    "\n",
    "PNEUMONIA_SOURCE_DIR ='D:\\\\archive (2)\\\\DataSets\\\\refined_pneumonia\\\\'\n",
    "TRAINING_PNEUMONIA_DIR ='D:\\\\archive (2)\\\\x-ray\\\\train\\\\Pneumonia\\\\'\n",
    "VALID_PNEUMONIA_DIR ='D:\\\\archive (2)\\\\x-ray\\\\validation\\\\Pneumonia\\\\'\n",
    "\n",
    "LUNG_OPACITY_SOURCE_DIR ='D:\\\\archive (2)\\\\DataSets\\\\refined_lung_opacity\\\\'\n",
    "TRAINING_LUNG_OPACITY_DIR ='D:\\\\archive (2)\\\\x-ray\\\\train\\\\Lung_Opacity\\\\'\n",
    "VALID_LUNG_OPACITY_DIR ='D:\\\\archive (2)\\\\x-ray\\\\validation\\\\Lung_Opacity\\\\'\n",
    "\n",
    "NORMAL_SOURCE_DIR ='D:\\\\archive (2)\\\\DataSets\\\\refined_normal\\\\'\n",
    "TRAINING_NORMAL_DIR ='D:\\\\archive (2)\\\\x-ray\\\\train\\\\Normal\\\\'\n",
    "VALID_NORMAL_DIR ='D:\\\\archive (2)\\\\x-ray\\\\validation\\\\Normal\\\\'"
   ]
  },
  {
   "cell_type": "code",
   "execution_count": 33,
   "metadata": {},
   "outputs": [],
   "source": [
    "import os\n",
    "import random\n",
    "from shutil import copyfile\n",
    "\n",
    "split_size = .85\n",
    "\n",
    "split_data(COVID_SOURCE_DIR, TRAINING_COVID_DIR, VALID_COVID_DIR, split_size)\n",
    "split_data(PNEUMONIA_SOURCE_DIR, TRAINING_PNEUMONIA_DIR, VALID_PNEUMONIA_DIR, split_size)\n",
    "split_data(LUNG_OPACITY_SOURCE_DIR, TRAINING_LUNG_OPACITY_DIR, VALID_LUNG_OPACITY_DIR, split_size)\n",
    "split_data(NORMAL_SOURCE_DIR, TRAINING_NORMAL_DIR, VALID_NORMAL_DIR, split_size)"
   ]
  },
  {
   "cell_type": "code",
   "execution_count": 35,
   "metadata": {},
   "outputs": [
    {
     "data": {
      "image/png": "[encoded data removed]",
      "text/plain": [
       "<Figure size 648x432 with 1 Axes>"
      ]
     },
     "metadata": {
      "needs_background": "light"
     },
     "output_type": "display_data"
    }
   ],
   "source": [
    "import matplotlib.pyplot as plt\n",
    "import seaborn as sns\n",
    "from matplotlib.image import imread\n",
    "import pathlib\n",
    "\n",
    "image_folder = ['COVID', 'Pneumonia', 'Lung_Opacity', 'Normal']\n",
    "nimgs = {}\n",
    "for i in image_folder:\n",
    "    nimages = len(os.listdir('D:\\\\archive (2)\\\\x-ray\\\\train\\\\'+i+'/'))\n",
    "    nimgs[i]=nimages\n",
    "plt.figure(figsize=(9, 6))\n",
    "plt.bar(range(len(nimgs)), list(nimgs.values()), align='center')\n",
    "plt.xticks(range(len(nimgs)), list(nimgs.keys()))\n",
    "plt.title('Distribution of different classes in Training Dataset')\n",
    "plt.show()"
   ]
  },
  {
   "cell_type": "code",
   "execution_count": 36,
   "metadata": {},
   "outputs": [
    {
     "data": {
      "image/png": "[encoded data removed]",
      "text/plain": [
       "<Figure size 648x432 with 1 Axes>"
      ]
     },
     "metadata": {
      "needs_background": "light"
     },
     "output_type": "display_data"
    }
   ],
   "source": [
    "image_folder = ['COVID', 'Pneumonia', 'Lung_Opacity', 'Normal']\n",
    "nimgs = {}\n",
    "for i in image_folder:\n",
    "    nimages = len(os.listdir('D:\\\\archive (2)\\\\x-ray\\\\validation\\\\'+i+'/'))\n",
    "    nimgs[i]=nimages\n",
    "plt.figure(figsize=(9, 6))\n",
    "plt.bar(range(len(nimgs)), list(nimgs.values()), align='center')\n",
    "plt.xticks(range(len(nimgs)), list(nimgs.keys()))\n",
    "plt.title('Distribution of different classes in Validation Dataset')\n",
    "plt.show()"
   ]
  },
  {
   "cell_type": "code",
   "execution_count": 37,
   "metadata": {},
   "outputs": [],
   "source": [
    "from tensorflow.keras.optimizers import Adam\n",
    "from tensorflow.keras.preprocessing.image import ImageDataGenerator\n",
    "from tensorflow.keras.layers import Conv2D, MaxPooling2D, Flatten, Dense, Dropout\n",
    "from tensorflow.keras.models import Sequential\n",
    "from tensorflow.keras.callbacks import EarlyStopping, ModelCheckpoint"
   ]
  },
  {
   "cell_type": "code",
   "execution_count": 38,
   "metadata": {},
   "outputs": [],
   "source": [
    "img_width=256; img_height=256\n",
    "batch_size=16"
   ]
  },
  {
   "cell_type": "code",
   "execution_count": 39,
   "metadata": {},
   "outputs": [
    {
     "name": "stdout",
     "output_type": "stream",
     "text": [
      "Found 17989 images belonging to 4 classes.\n"
     ]
    }
   ],
   "source": [
    "TRAINING_DIR ='D:\\\\archive (2)\\\\x-ray\\\\train\\\\'\n",
    "\n",
    "train_datagen = ImageDataGenerator(rescale = 1/255.0,\n",
    "                                   rotation_range=30,\n",
    "                                   zoom_range=0.4,\n",
    "                                   horizontal_flip=True)\n",
    "\n",
    "train_generator = train_datagen.flow_from_directory(TRAINING_DIR,\n",
    "                                                    batch_size=batch_size,\n",
    "                                                    class_mode='categorical',\n",
    "                                                    target_size=(img_height, img_width))"
   ]
  },
  {
   "cell_type": "code",
   "execution_count": 40,
   "metadata": {},
   "outputs": [
    {
     "name": "stdout",
     "output_type": "stream",
     "text": [
      "Found 3176 images belonging to 4 classes.\n"
     ]
    }
   ],
   "source": [
    "VALIDATION_DIR = 'D:\\\\archive (2)\\\\x-ray\\\\validation\\\\'\n",
    "\n",
    "validation_datagen = ImageDataGenerator(rescale = 1/255.0)\n",
    "\n",
    "validation_generator = validation_datagen.flow_from_directory(VALIDATION_DIR,\n",
    "                                                              batch_size=batch_size,\n",
    "                                                              class_mode='categorical',\n",
    "                                                              target_size=(img_height, img_width)\n",
    "                                                             )"
   ]
  },
  {
   "cell_type": "code",
   "execution_count": 46,
   "metadata": {},
   "outputs": [
    {
     "name": "stdout",
     "output_type": "stream",
     "text": [
      "Model: \"sequential_1\"\n",
      "_________________________________________________________________\n",
      "Layer (type)                 Output Shape              Param #   \n",
      "=================================================================\n",
      "conv2d_9 (Conv2D)            (None, 254, 254, 16)      448       \n",
      "_________________________________________________________________\n",
      "max_pooling2d_5 (MaxPooling2 (None, 127, 127, 16)      0         \n",
      "_________________________________________________________________\n",
      "conv2d_10 (Conv2D)           (None, 125, 125, 32)      4640      \n",
      "_________________________________________________________________\n",
      "max_pooling2d_6 (MaxPooling2 (None, 62, 62, 32)        0         \n",
      "_________________________________________________________________\n",
      "conv2d_11 (Conv2D)           (None, 60, 60, 64)        18496     \n",
      "_________________________________________________________________\n",
      "conv2d_12 (Conv2D)           (None, 58, 58, 64)        36928     \n",
      "_________________________________________________________________\n",
      "max_pooling2d_7 (MaxPooling2 (None, 29, 29, 64)        0         \n",
      "_________________________________________________________________\n",
      "conv2d_13 (Conv2D)           (None, 27, 27, 128)       73856     \n",
      "_________________________________________________________________\n",
      "conv2d_14 (Conv2D)           (None, 25, 25, 128)       147584    \n",
      "_________________________________________________________________\n",
      "max_pooling2d_8 (MaxPooling2 (None, 12, 12, 128)       0         \n",
      "_________________________________________________________________\n",
      "conv2d_15 (Conv2D)           (None, 10, 10, 256)       295168    \n",
      "_________________________________________________________________\n",
      "conv2d_16 (Conv2D)           (None, 8, 8, 256)         590080    \n",
      "_________________________________________________________________\n",
      "conv2d_17 (Conv2D)           (None, 6, 6, 256)         590080    \n",
      "_________________________________________________________________\n",
      "max_pooling2d_9 (MaxPooling2 (None, 3, 3, 256)         0         \n",
      "_________________________________________________________________\n",
      "flatten_1 (Flatten)          (None, 2304)              0         \n",
      "_________________________________________________________________\n",
      "dense_3 (Dense)              (None, 512)               1180160   \n",
      "_________________________________________________________________\n",
      "dense_4 (Dense)              (None, 512)               262656    \n",
      "_________________________________________________________________\n",
      "dense_5 (Dense)              (None, 4)                 2052      \n",
      "=================================================================\n",
      "Total params: 3,202,148\n",
      "Trainable params: 3,202,148\n",
      "Non-trainable params: 0\n",
      "_________________________________________________________________\n"
     ]
    }
   ],
   "source": [
    "model = Sequential([\n",
    "    Conv2D(16, (3, 3), activation='relu', input_shape=(img_height, img_width, 3)), MaxPooling2D(2, 2),\n",
    "    Conv2D(32, (3, 3), activation='relu'), MaxPooling2D(2, 2),\n",
    "    Conv2D(64, (3, 3), activation='relu'),\n",
    "    Conv2D(64, (3, 3), activation='relu'),\n",
    "    MaxPooling2D(2, 2),\n",
    "    Conv2D(128, (3, 3), activation='relu'),\n",
    "    Conv2D(128, (3, 3), activation='relu'),\n",
    "    MaxPooling2D(2, 2),\n",
    "    Conv2D(256, (3, 3), activation='relu'),\n",
    "    Conv2D(256, (3, 3), activation='relu'),\n",
    "    Conv2D(256, (3, 3), activation='relu'),\n",
    "    MaxPooling2D(2, 2),\n",
    "    Flatten(),\n",
    "    Dense(512, activation='relu'),\n",
    "    Dense(512, activation='relu'),\n",
    "    Dense(4, activation='softmax')\n",
    "])\n",
    "model.summary()"
   ]
  },
  {
   "cell_type": "code",
   "execution_count": 47,
   "metadata": {},
   "outputs": [],
   "source": [
    "model.compile(optimizer='Adam', \n",
    "              loss='categorical_crossentropy', \n",
    "              metrics =['accuracy'])"
   ]
  },
  {
   "cell_type": "code",
   "execution_count": 48,
   "metadata": {},
   "outputs": [],
   "source": [
    "callbacks = EarlyStopping(monitor='val_loss', patience=5, verbose=1, mode='auto')\n",
    "# autosave best Model\n",
    "best_model_file = 'D:\\\\archive (2)\\\\x-ray\\\\best\\\\'\n",
    "best_model = ModelCheckpoint(best_model_file, monitor='val_acc', verbose = 1, save_best_only = True)"
   ]
  },
  {
   "cell_type": "code",
   "execution_count": 49,
   "metadata": {},
   "outputs": [
    {
     "name": "stdout",
     "output_type": "stream",
     "text": [
      "Epoch 1/30\n",
      "1125/1125 [==============================] - 2170s 2s/step - loss: 1.1209 - accuracy: 0.5238 - val_loss: 0.9918 - val_accuracy: 0.5746\n",
      "WARNING:tensorflow:Can save best model only with val_acc available, skipping.\n",
      "Epoch 2/30\n",
      "1125/1125 [==============================] - 1372s 1s/step - loss: 0.9100 - accuracy: 0.6269 - val_loss: 0.8875 - val_accuracy: 0.6209\n",
      "WARNING:tensorflow:Can save best model only with val_acc available, skipping.\n",
      "Epoch 3/30\n",
      "1125/1125 [==============================] - 1826s 2s/step - loss: 0.8373 - accuracy: 0.6570 - val_loss: 0.7552 - val_accuracy: 0.6921\n",
      "WARNING:tensorflow:Can save best model only with val_acc available, skipping.\n",
      "Epoch 4/30\n",
      "1125/1125 [==============================] - 1651s 1s/step - loss: 0.7836 - accuracy: 0.6776 - val_loss: 0.7054 - val_accuracy: 0.7006\n",
      "WARNING:tensorflow:Can save best model only with val_acc available, skipping.\n",
      "Epoch 5/30\n",
      "1125/1125 [==============================] - 1483s 1s/step - loss: 0.7542 - accuracy: 0.6920 - val_loss: 0.6707 - val_accuracy: 0.7191\n",
      "WARNING:tensorflow:Can save best model only with val_acc available, skipping.\n",
      "Epoch 6/30\n",
      "1125/1125 [==============================] - 24552s 22s/step - loss: 0.7368 - accuracy: 0.6995 - val_loss: 0.7041 - val_accuracy: 0.7006\n",
      "WARNING:tensorflow:Can save best model only with val_acc available, skipping.\n",
      "Epoch 7/30\n",
      "1125/1125 [==============================] - 1781s 2s/step - loss: 0.7198 - accuracy: 0.7038 - val_loss: 0.6594 - val_accuracy: 0.7213\n",
      "WARNING:tensorflow:Can save best model only with val_acc available, skipping.\n",
      "Epoch 8/30\n",
      "1125/1125 [==============================] - 1839s 2s/step - loss: 0.7020 - accuracy: 0.7155 - val_loss: 0.6726 - val_accuracy: 0.7245\n",
      "WARNING:tensorflow:Can save best model only with val_acc available, skipping.\n",
      "Epoch 9/30\n",
      "1125/1125 [==============================] - 1760s 2s/step - loss: 0.6839 - accuracy: 0.7248 - val_loss: 0.6318 - val_accuracy: 0.7390\n",
      "WARNING:tensorflow:Can save best model only with val_acc available, skipping.\n",
      "Epoch 10/30\n",
      "1125/1125 [==============================] - 1808s 2s/step - loss: 0.6705 - accuracy: 0.7358 - val_loss: 0.6146 - val_accuracy: 0.7519\n",
      "WARNING:tensorflow:Can save best model only with val_acc available, skipping.\n",
      "Epoch 11/30\n",
      "1125/1125 [==============================] - 1781s 2s/step - loss: 0.6608 - accuracy: 0.7354 - val_loss: 0.6184 - val_accuracy: 0.7368\n",
      "WARNING:tensorflow:Can save best model only with val_acc available, skipping.\n",
      "Epoch 12/30\n",
      "1125/1125 [==============================] - 1739s 2s/step - loss: 0.6537 - accuracy: 0.7379 - val_loss: 0.5804 - val_accuracy: 0.7664\n",
      "WARNING:tensorflow:Can save best model only with val_acc available, skipping.\n",
      "Epoch 13/30\n",
      "1125/1125 [==============================] - 1727s 2s/step - loss: 0.6318 - accuracy: 0.7474 - val_loss: 0.5573 - val_accuracy: 0.7717\n",
      "WARNING:tensorflow:Can save best model only with val_acc available, skipping.\n",
      "Epoch 14/30\n",
      "1125/1125 [==============================] - 1713s 2s/step - loss: 0.6269 - accuracy: 0.7534 - val_loss: 0.5721 - val_accuracy: 0.7730\n",
      "WARNING:tensorflow:Can save best model only with val_acc available, skipping.\n",
      "Epoch 15/30\n",
      "1125/1125 [==============================] - 1283s 1s/step - loss: 0.6209 - accuracy: 0.7507 - val_loss: 0.5941 - val_accuracy: 0.7648\n",
      "WARNING:tensorflow:Can save best model only with val_acc available, skipping.\n",
      "Epoch 16/30\n",
      "1125/1125 [==============================] - 1282s 1s/step - loss: 0.6076 - accuracy: 0.7662 - val_loss: 0.5357 - val_accuracy: 0.7872\n",
      "WARNING:tensorflow:Can save best model only with val_acc available, skipping.\n",
      "Epoch 17/30\n",
      "1125/1125 [==============================] - 1411s 1s/step - loss: 0.6019 - accuracy: 0.7631 - val_loss: 0.5721 - val_accuracy: 0.7755\n",
      "WARNING:tensorflow:Can save best model only with val_acc available, skipping.\n",
      "Epoch 18/30\n",
      "1125/1125 [==============================] - 1389s 1s/step - loss: 0.5978 - accuracy: 0.7674 - val_loss: 0.5536 - val_accuracy: 0.7730\n",
      "WARNING:tensorflow:Can save best model only with val_acc available, skipping.\n",
      "Epoch 19/30\n",
      "1125/1125 [==============================] - 1379s 1s/step - loss: 0.5920 - accuracy: 0.7659 - val_loss: 0.5236 - val_accuracy: 0.7969\n",
      "WARNING:tensorflow:Can save best model only with val_acc available, skipping.\n",
      "Epoch 20/30\n",
      "1125/1125 [==============================] - 1411s 1s/step - loss: 0.5899 - accuracy: 0.7710 - val_loss: 0.5723 - val_accuracy: 0.7639\n",
      "WARNING:tensorflow:Can save best model only with val_acc available, skipping.\n",
      "Epoch 21/30\n",
      "1125/1125 [==============================] - 1477s 1s/step - loss: 0.5762 - accuracy: 0.7781 - val_loss: 0.5235 - val_accuracy: 0.7960\n",
      "WARNING:tensorflow:Can save best model only with val_acc available, skipping.\n",
      "Epoch 22/30\n",
      "1125/1125 [==============================] - 1603s 1s/step - loss: 0.5773 - accuracy: 0.7717 - val_loss: 0.5294 - val_accuracy: 0.7906\n",
      "WARNING:tensorflow:Can save best model only with val_acc available, skipping.\n",
      "Epoch 23/30\n",
      "1125/1125 [==============================] - 1471s 1s/step - loss: 0.5680 - accuracy: 0.7804 - val_loss: 0.5380 - val_accuracy: 0.7881\n",
      "WARNING:tensorflow:Can save best model only with val_acc available, skipping.\n",
      "Epoch 24/30\n",
      "1125/1125 [==============================] - 1682s 1s/step - loss: 0.5705 - accuracy: 0.7785 - val_loss: 0.5098 - val_accuracy: 0.8004\n",
      "WARNING:tensorflow:Can save best model only with val_acc available, skipping.\n",
      "Epoch 25/30\n",
      "1125/1125 [==============================] - 1615s 1s/step - loss: 0.5614 - accuracy: 0.7805 - val_loss: 0.5189 - val_accuracy: 0.7994\n",
      "WARNING:tensorflow:Can save best model only with val_acc available, skipping.\n",
      "Epoch 26/30\n",
      "1125/1125 [==============================] - 1631s 1s/step - loss: 0.5556 - accuracy: 0.7837 - val_loss: 0.5367 - val_accuracy: 0.7846\n",
      "WARNING:tensorflow:Can save best model only with val_acc available, skipping.\n",
      "Epoch 27/30\n",
      "1125/1125 [==============================] - 1609s 1s/step - loss: 0.5534 - accuracy: 0.7880 - val_loss: 0.5198 - val_accuracy: 0.7925\n",
      "WARNING:tensorflow:Can save best model only with val_acc available, skipping.\n",
      "Epoch 28/30\n",
      "1125/1125 [==============================] - 1508s 1s/step - loss: 0.5477 - accuracy: 0.7886 - val_loss: 0.5220 - val_accuracy: 0.7919\n",
      "WARNING:tensorflow:Can save best model only with val_acc available, skipping.\n",
      "Epoch 29/30\n",
      "1125/1125 [==============================] - 1432s 1s/step - loss: 0.5585 - accuracy: 0.7853 - val_loss: 0.5248 - val_accuracy: 0.7919\n",
      "WARNING:tensorflow:Can save best model only with val_acc available, skipping.\n",
      "Epoch 30/30\n",
      "1125/1125 [==============================] - 1413s 1s/step - loss: 0.5400 - accuracy: 0.7895 - val_loss: 0.5381 - val_accuracy: 0.7950\n",
      "WARNING:tensorflow:Can save best model only with val_acc available, skipping.\n"
     ]
    }
   ],
   "source": [
    "history = model.fit_generator(train_generator,\n",
    "                              epochs=30,\n",
    "                              verbose=1,\n",
    "                              validation_data=validation_generator,\n",
    "                              callbacks = [best_model]\n",
    "                              )"
   ]
  },
  {
   "cell_type": "code",
   "execution_count": 50,
   "metadata": {},
   "outputs": [
    {
     "data": {
      "image/png": "[encoded data removed]",
      "text/plain": [
       "<Figure size 1008x504 with 1 Axes>"
      ]
     },
     "metadata": {
      "needs_background": "light"
     },
     "output_type": "display_data"
    }
   ],
   "source": [
    "acc=history.history['accuracy']\n",
    "val_acc=history.history['val_accuracy']\n",
    "loss=history.history['loss']\n",
    "val_loss=history.history['val_loss']\n",
    "\n",
    "epochs=range(len(acc))\n",
    "\n",
    "fig = plt.figure(figsize=(14,7))\n",
    "plt.plot(epochs, acc, 'r', label=\"Training Accuracy\")\n",
    "plt.plot(epochs, val_acc, 'b', label=\"Validation Accuracy\")\n",
    "plt.xlabel('Epoch')\n",
    "plt.ylabel('Accuracy')\n",
    "plt.title('Training and validation accuracy')\n",
    "plt.legend(loc='lower right')\n",
    "plt.show()"
   ]
  },
  {
   "cell_type": "code",
   "execution_count": 51,
   "metadata": {},
   "outputs": [
    {
     "data": {
      "text/plain": [
       "Text(0.5, 1.0, 'Training and validation loss')"
      ]
     },
     "execution_count": 51,
     "metadata": {},
     "output_type": "execute_result"
    },
    {
     "data": {
      "image/png": "[encoded data removed]",
      "text/plain": [
       "<Figure size 1008x504 with 1 Axes>"
      ]
     },
     "metadata": {
      "needs_background": "light"
     },
     "output_type": "display_data"
    }
   ],
   "source": [
    "fig2 = plt.figure(figsize=(14,7))\n",
    "plt.plot(epochs, loss, 'r', label=\"Training Loss\")\n",
    "plt.plot(epochs, val_loss, 'b', label=\"Validation Loss\")\n",
    "plt.legend(loc='upper right')\n",
    "plt.xlabel('Epoch')\n",
    "plt.ylabel('Loss')\n",
    "plt.title('Training and validation loss')"
   ]
  },
  {
   "cell_type": "code",
   "execution_count": 87,
   "metadata": {},
   "outputs": [],
   "source": [
    "import pandas as pd\n",
    "import numpy as np\n",
    "from keras.preprocessing.image import load_img, img_to_array\n",
    "\n",
    "def preprocess_image(path):\n",
    "    img = load_img(path, target_size = (img_height, img_width))\n",
    "    a = img_to_array(img)\n",
    "    print(a.shape)\n",
    "    a = np.expand_dims(a, axis = 0)\n",
    "    a /= 255.\n",
    "    print(a.shape)\n",
    "    return a"
   ]
  },
  {
   "cell_type": "code",
   "execution_count": 88,
   "metadata": {},
   "outputs": [
    {
     "name": "stdout",
     "output_type": "stream",
     "text": [
      "(256, 256, 3)\n",
      "(1, 256, 256, 3)\n"
     ]
    }
   ],
   "source": [
    "resized_image=preprocess_image(\"D:\\\\archive (2)\\\\COVID-19_Radiography_Dataset\\\\refined_covid\\\\27.png\")"
   ]
  },
  {
   "cell_type": "code",
   "execution_count": 79,
   "metadata": {},
   "outputs": [],
   "source": [
    "imass=cv2.imread(\"D:\\\\archive (2)\\\\COVID-19_Radiography_Dataset\\\\refined_covid\\\\27.png\")"
   ]
  },
  {
   "cell_type": "code",
   "execution_count": 80,
   "metadata": {},
   "outputs": [
    {
     "data": {
      "text/plain": [
       "(299, 299, 3)"
      ]
     },
     "execution_count": 80,
     "metadata": {},
     "output_type": "execute_result"
    }
   ],
   "source": [
    "imass.shape"
   ]
  },
  {
   "cell_type": "code",
   "execution_count": 59,
   "metadata": {},
   "outputs": [],
   "source": [
    "prediction=model.predict(resized_image)"
   ]
  },
  {
   "cell_type": "code",
   "execution_count": 64,
   "metadata": {},
   "outputs": [],
   "source": [
    "pred=model.predict_classes(resized_image)"
   ]
  },
  {
   "cell_type": "code",
   "execution_count": 67,
   "metadata": {},
   "outputs": [],
   "source": [
    "def findout(pred):\n",
    "    if pred==0:\n",
    "        print('COVID')\n",
    "    elif pred == 1:\n",
    "        print('Pneumonia')\n",
    "    elif pred==2:\n",
    "        print('Lung_Opacity')\n",
    "    else:\n",
    "        print('Normal')"
   ]
  },
  {
   "cell_type": "code",
   "execution_count": 68,
   "metadata": {},
   "outputs": [
    {
     "name": "stdout",
     "output_type": "stream",
     "text": [
      "COVID\n"
     ]
    }
   ],
   "source": [
    "findout(pred)"
   ]
  },
  {
   "cell_type": "code",
   "execution_count": 71,
   "metadata": {},
   "outputs": [],
   "source": [
    "model.save(\"D:\\\\archive (2)\\\\COVID-19_Radiography_Dataset\\\\x-ray\\\\best.h5\")"
   ]
  },
  {
   "cell_type": "code",
   "execution_count": 75,
   "metadata": {},
   "outputs": [],
   "source": [
    "from keras import models"
   ]
  },
  {
   "cell_type": "code",
   "execution_count": 76,
   "metadata": {},
   "outputs": [],
   "source": [
    "model1=models.load_model(\"D:\\\\archive (2)\\\\COVID-19_Radiography_Dataset\\\\x-ray\\\\best.h5\")"
   ]
  },
  {
   "cell_type": "code",
   "execution_count": 77,
   "metadata": {},
   "outputs": [
    {
     "name": "stderr",
     "output_type": "stream",
     "text": [
      "C:\\Users\\DELL\\AppData\\Local\\Programs\\Python\\Python39\\lib\\site-packages\\keras\\engine\\sequential.py:450: UserWarning: `model.predict_classes()` is deprecated and will be removed after 2021-01-01. Please use instead:* `np.argmax(model.predict(x), axis=-1)`,   if your model does multi-class classification   (e.g. if it uses a `softmax` last-layer activation).* `(model.predict(x) > 0.5).astype(\"int32\")`,   if your model does binary classification   (e.g. if it uses a `sigmoid` last-layer activation).\n",
      "  warnings.warn('`model.predict_classes()` is deprecated and '\n"
     ]
    },
    {
     "name": "stdout",
     "output_type": "stream",
     "text": [
      "COVID\n"
     ]
    }
   ],
   "source": [
    "findout(model1.predict_classes(resized_image  ))"
   ]
  }
 ],
 "metadata": {
  "interpreter": {
   "hash": "33dc6d49505b4536b6a128d9d7c879e1fa44477ad44947bbbe73093067fe6393"
  },
  "kernelspec": {
   "display_name": "Python 3.9.5 64-bit",
   "language": "python",
   "name": "python3"
  },
  "language_info": {
   "codemirror_mode": {
    "name": "ipython",
    "version": 3
   },
   "file_extension": ".py",
   "mimetype": "text/x-python",
   "name": "python",
   "nbconvert_exporter": "python",
   "pygments_lexer": "ipython3",
   "version": "3.9.5"
  },
  "orig_nbformat": 4
 },
 "nbformat": 4,
 "nbformat_minor": 2
}
